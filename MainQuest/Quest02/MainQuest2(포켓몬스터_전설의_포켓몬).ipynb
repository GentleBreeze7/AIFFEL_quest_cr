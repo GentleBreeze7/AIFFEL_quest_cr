{
  "nbformat": 4,
  "nbformat_minor": 0,
  "metadata": {
    "colab": {
      "provenance": [],
      "authorship_tag": "ABX9TyOuhGNk7In7mIGTqDUG7MXp",
      "include_colab_link": true
    },
    "kernelspec": {
      "name": "python3",
      "display_name": "Python 3"
    },
    "language_info": {
      "name": "python"
    }
  },
  "cells": [
    {
      "cell_type": "markdown",
      "metadata": {
        "id": "view-in-github",
        "colab_type": "text"
      },
      "source": [
        "<a href=\"https://colab.research.google.com/github/GentleBreeze7/AIFFEL_quest_cr/blob/main/MainQuest/Quest02/MainQuest2(%ED%8F%AC%EC%BC%93%EB%AA%AC%EC%8A%A4%ED%84%B0_%EC%A0%84%EC%84%A4%EC%9D%98_%ED%8F%AC%EC%BC%93%EB%AA%AC).ipynb\" target=\"_parent\"><img src=\"https://colab.research.google.com/assets/colab-badge.svg\" alt=\"Open In Colab\"/></a>"
      ]
    },
    {
      "cell_type": "code",
      "execution_count": 5,
      "metadata": {
        "colab": {
          "base_uri": "https://localhost:8080/",
          "height": 394
        },
        "id": "BzPJOU0zeDWB",
        "outputId": "576f8ccf-5bec-4e76-e002-65ae0dba1985"
      },
      "outputs": [
        {
          "output_type": "display_data",
          "data": {
            "text/plain": [
              "<IPython.core.display.HTML object>"
            ],
            "text/html": [
              "\n",
              "     <input type=\"file\" id=\"files-6c48445d-16ac-4111-901c-8a9d5a47684f\" name=\"files[]\" multiple disabled\n",
              "        style=\"border:none\" />\n",
              "     <output id=\"result-6c48445d-16ac-4111-901c-8a9d5a47684f\">\n",
              "      Upload widget is only available when the cell has been executed in the\n",
              "      current browser session. Please rerun this cell to enable.\n",
              "      </output>\n",
              "      <script>// Copyright 2017 Google LLC\n",
              "//\n",
              "// Licensed under the Apache License, Version 2.0 (the \"License\");\n",
              "// you may not use this file except in compliance with the License.\n",
              "// You may obtain a copy of the License at\n",
              "//\n",
              "//      http://www.apache.org/licenses/LICENSE-2.0\n",
              "//\n",
              "// Unless required by applicable law or agreed to in writing, software\n",
              "// distributed under the License is distributed on an \"AS IS\" BASIS,\n",
              "// WITHOUT WARRANTIES OR CONDITIONS OF ANY KIND, either express or implied.\n",
              "// See the License for the specific language governing permissions and\n",
              "// limitations under the License.\n",
              "\n",
              "/**\n",
              " * @fileoverview Helpers for google.colab Python module.\n",
              " */\n",
              "(function(scope) {\n",
              "function span(text, styleAttributes = {}) {\n",
              "  const element = document.createElement('span');\n",
              "  element.textContent = text;\n",
              "  for (const key of Object.keys(styleAttributes)) {\n",
              "    element.style[key] = styleAttributes[key];\n",
              "  }\n",
              "  return element;\n",
              "}\n",
              "\n",
              "// Max number of bytes which will be uploaded at a time.\n",
              "const MAX_PAYLOAD_SIZE = 100 * 1024;\n",
              "\n",
              "function _uploadFiles(inputId, outputId) {\n",
              "  const steps = uploadFilesStep(inputId, outputId);\n",
              "  const outputElement = document.getElementById(outputId);\n",
              "  // Cache steps on the outputElement to make it available for the next call\n",
              "  // to uploadFilesContinue from Python.\n",
              "  outputElement.steps = steps;\n",
              "\n",
              "  return _uploadFilesContinue(outputId);\n",
              "}\n",
              "\n",
              "// This is roughly an async generator (not supported in the browser yet),\n",
              "// where there are multiple asynchronous steps and the Python side is going\n",
              "// to poll for completion of each step.\n",
              "// This uses a Promise to block the python side on completion of each step,\n",
              "// then passes the result of the previous step as the input to the next step.\n",
              "function _uploadFilesContinue(outputId) {\n",
              "  const outputElement = document.getElementById(outputId);\n",
              "  const steps = outputElement.steps;\n",
              "\n",
              "  const next = steps.next(outputElement.lastPromiseValue);\n",
              "  return Promise.resolve(next.value.promise).then((value) => {\n",
              "    // Cache the last promise value to make it available to the next\n",
              "    // step of the generator.\n",
              "    outputElement.lastPromiseValue = value;\n",
              "    return next.value.response;\n",
              "  });\n",
              "}\n",
              "\n",
              "/**\n",
              " * Generator function which is called between each async step of the upload\n",
              " * process.\n",
              " * @param {string} inputId Element ID of the input file picker element.\n",
              " * @param {string} outputId Element ID of the output display.\n",
              " * @return {!Iterable<!Object>} Iterable of next steps.\n",
              " */\n",
              "function* uploadFilesStep(inputId, outputId) {\n",
              "  const inputElement = document.getElementById(inputId);\n",
              "  inputElement.disabled = false;\n",
              "\n",
              "  const outputElement = document.getElementById(outputId);\n",
              "  outputElement.innerHTML = '';\n",
              "\n",
              "  const pickedPromise = new Promise((resolve) => {\n",
              "    inputElement.addEventListener('change', (e) => {\n",
              "      resolve(e.target.files);\n",
              "    });\n",
              "  });\n",
              "\n",
              "  const cancel = document.createElement('button');\n",
              "  inputElement.parentElement.appendChild(cancel);\n",
              "  cancel.textContent = 'Cancel upload';\n",
              "  const cancelPromise = new Promise((resolve) => {\n",
              "    cancel.onclick = () => {\n",
              "      resolve(null);\n",
              "    };\n",
              "  });\n",
              "\n",
              "  // Wait for the user to pick the files.\n",
              "  const files = yield {\n",
              "    promise: Promise.race([pickedPromise, cancelPromise]),\n",
              "    response: {\n",
              "      action: 'starting',\n",
              "    }\n",
              "  };\n",
              "\n",
              "  cancel.remove();\n",
              "\n",
              "  // Disable the input element since further picks are not allowed.\n",
              "  inputElement.disabled = true;\n",
              "\n",
              "  if (!files) {\n",
              "    return {\n",
              "      response: {\n",
              "        action: 'complete',\n",
              "      }\n",
              "    };\n",
              "  }\n",
              "\n",
              "  for (const file of files) {\n",
              "    const li = document.createElement('li');\n",
              "    li.append(span(file.name, {fontWeight: 'bold'}));\n",
              "    li.append(span(\n",
              "        `(${file.type || 'n/a'}) - ${file.size} bytes, ` +\n",
              "        `last modified: ${\n",
              "            file.lastModifiedDate ? file.lastModifiedDate.toLocaleDateString() :\n",
              "                                    'n/a'} - `));\n",
              "    const percent = span('0% done');\n",
              "    li.appendChild(percent);\n",
              "\n",
              "    outputElement.appendChild(li);\n",
              "\n",
              "    const fileDataPromise = new Promise((resolve) => {\n",
              "      const reader = new FileReader();\n",
              "      reader.onload = (e) => {\n",
              "        resolve(e.target.result);\n",
              "      };\n",
              "      reader.readAsArrayBuffer(file);\n",
              "    });\n",
              "    // Wait for the data to be ready.\n",
              "    let fileData = yield {\n",
              "      promise: fileDataPromise,\n",
              "      response: {\n",
              "        action: 'continue',\n",
              "      }\n",
              "    };\n",
              "\n",
              "    // Use a chunked sending to avoid message size limits. See b/62115660.\n",
              "    let position = 0;\n",
              "    do {\n",
              "      const length = Math.min(fileData.byteLength - position, MAX_PAYLOAD_SIZE);\n",
              "      const chunk = new Uint8Array(fileData, position, length);\n",
              "      position += length;\n",
              "\n",
              "      const base64 = btoa(String.fromCharCode.apply(null, chunk));\n",
              "      yield {\n",
              "        response: {\n",
              "          action: 'append',\n",
              "          file: file.name,\n",
              "          data: base64,\n",
              "        },\n",
              "      };\n",
              "\n",
              "      let percentDone = fileData.byteLength === 0 ?\n",
              "          100 :\n",
              "          Math.round((position / fileData.byteLength) * 100);\n",
              "      percent.textContent = `${percentDone}% done`;\n",
              "\n",
              "    } while (position < fileData.byteLength);\n",
              "  }\n",
              "\n",
              "  // All done.\n",
              "  yield {\n",
              "    response: {\n",
              "      action: 'complete',\n",
              "    }\n",
              "  };\n",
              "}\n",
              "\n",
              "scope.google = scope.google || {};\n",
              "scope.google.colab = scope.google.colab || {};\n",
              "scope.google.colab._files = {\n",
              "  _uploadFiles,\n",
              "  _uploadFilesContinue,\n",
              "};\n",
              "})(self);\n",
              "</script> "
            ]
          },
          "metadata": {}
        },
        {
          "output_type": "error",
          "ename": "KeyboardInterrupt",
          "evalue": "",
          "traceback": [
            "\u001b[0;31m---------------------------------------------------------------------------\u001b[0m",
            "\u001b[0;31mKeyboardInterrupt\u001b[0m                         Traceback (most recent call last)",
            "\u001b[0;32m<ipython-input-5-4aa3c8d523e0>\u001b[0m in \u001b[0;36m<cell line: 0>\u001b[0;34m()\u001b[0m\n\u001b[1;32m      1\u001b[0m \u001b[0;32mfrom\u001b[0m \u001b[0mgoogle\u001b[0m\u001b[0;34m.\u001b[0m\u001b[0mcolab\u001b[0m \u001b[0;32mimport\u001b[0m \u001b[0mfiles\u001b[0m\u001b[0;34m\u001b[0m\u001b[0;34m\u001b[0m\u001b[0m\n\u001b[0;32m----> 2\u001b[0;31m \u001b[0muploaded\u001b[0m \u001b[0;34m=\u001b[0m \u001b[0mfiles\u001b[0m\u001b[0;34m.\u001b[0m\u001b[0mupload\u001b[0m\u001b[0;34m(\u001b[0m\u001b[0;34m)\u001b[0m\u001b[0;34m\u001b[0m\u001b[0;34m\u001b[0m\u001b[0m\n\u001b[0m\u001b[1;32m      3\u001b[0m \u001b[0;34m\u001b[0m\u001b[0m\n\u001b[1;32m      4\u001b[0m \u001b[0mpokemon\u001b[0m \u001b[0;34m=\u001b[0m \u001b[0mpd\u001b[0m\u001b[0;34m.\u001b[0m\u001b[0mread_csv\u001b[0m\u001b[0;34m(\u001b[0m\u001b[0;34m'Pokemon (1).csv'\u001b[0m\u001b[0;34m)\u001b[0m\u001b[0;34m\u001b[0m\u001b[0;34m\u001b[0m\u001b[0m\n\u001b[1;32m      5\u001b[0m \u001b[0;34m\u001b[0m\u001b[0m\n",
            "\u001b[0;32m/usr/local/lib/python3.11/dist-packages/google/colab/files.py\u001b[0m in \u001b[0;36mupload\u001b[0;34m(target_dir)\u001b[0m\n\u001b[1;32m     70\u001b[0m   \"\"\"\n\u001b[1;32m     71\u001b[0m \u001b[0;34m\u001b[0m\u001b[0m\n\u001b[0;32m---> 72\u001b[0;31m   \u001b[0muploaded_files\u001b[0m \u001b[0;34m=\u001b[0m \u001b[0m_upload_files\u001b[0m\u001b[0;34m(\u001b[0m\u001b[0mmultiple\u001b[0m\u001b[0;34m=\u001b[0m\u001b[0;32mTrue\u001b[0m\u001b[0;34m)\u001b[0m\u001b[0;34m\u001b[0m\u001b[0;34m\u001b[0m\u001b[0m\n\u001b[0m\u001b[1;32m     73\u001b[0m   \u001b[0;31m# Mapping from original filename to filename as saved locally.\u001b[0m\u001b[0;34m\u001b[0m\u001b[0;34m\u001b[0m\u001b[0m\n\u001b[1;32m     74\u001b[0m   \u001b[0mlocal_filenames\u001b[0m \u001b[0;34m=\u001b[0m \u001b[0mdict\u001b[0m\u001b[0;34m(\u001b[0m\u001b[0;34m)\u001b[0m\u001b[0;34m\u001b[0m\u001b[0;34m\u001b[0m\u001b[0m\n",
            "\u001b[0;32m/usr/local/lib/python3.11/dist-packages/google/colab/files.py\u001b[0m in \u001b[0;36m_upload_files\u001b[0;34m(multiple)\u001b[0m\n\u001b[1;32m    162\u001b[0m \u001b[0;34m\u001b[0m\u001b[0m\n\u001b[1;32m    163\u001b[0m   \u001b[0;31m# First result is always an indication that the file picker has completed.\u001b[0m\u001b[0;34m\u001b[0m\u001b[0;34m\u001b[0m\u001b[0m\n\u001b[0;32m--> 164\u001b[0;31m   result = _output.eval_js(\n\u001b[0m\u001b[1;32m    165\u001b[0m       'google.colab._files._uploadFiles(\"{input_id}\", \"{output_id}\")'.format(\n\u001b[1;32m    166\u001b[0m           \u001b[0minput_id\u001b[0m\u001b[0;34m=\u001b[0m\u001b[0minput_id\u001b[0m\u001b[0;34m,\u001b[0m \u001b[0moutput_id\u001b[0m\u001b[0;34m=\u001b[0m\u001b[0moutput_id\u001b[0m\u001b[0;34m\u001b[0m\u001b[0;34m\u001b[0m\u001b[0m\n",
            "\u001b[0;32m/usr/local/lib/python3.11/dist-packages/google/colab/output/_js.py\u001b[0m in \u001b[0;36meval_js\u001b[0;34m(script, ignore_result, timeout_sec)\u001b[0m\n\u001b[1;32m     38\u001b[0m   \u001b[0;32mif\u001b[0m \u001b[0mignore_result\u001b[0m\u001b[0;34m:\u001b[0m\u001b[0;34m\u001b[0m\u001b[0;34m\u001b[0m\u001b[0m\n\u001b[1;32m     39\u001b[0m     \u001b[0;32mreturn\u001b[0m\u001b[0;34m\u001b[0m\u001b[0;34m\u001b[0m\u001b[0m\n\u001b[0;32m---> 40\u001b[0;31m   \u001b[0;32mreturn\u001b[0m \u001b[0m_message\u001b[0m\u001b[0;34m.\u001b[0m\u001b[0mread_reply_from_input\u001b[0m\u001b[0;34m(\u001b[0m\u001b[0mrequest_id\u001b[0m\u001b[0;34m,\u001b[0m \u001b[0mtimeout_sec\u001b[0m\u001b[0;34m)\u001b[0m\u001b[0;34m\u001b[0m\u001b[0;34m\u001b[0m\u001b[0m\n\u001b[0m\u001b[1;32m     41\u001b[0m \u001b[0;34m\u001b[0m\u001b[0m\n\u001b[1;32m     42\u001b[0m \u001b[0;34m\u001b[0m\u001b[0m\n",
            "\u001b[0;32m/usr/local/lib/python3.11/dist-packages/google/colab/_message.py\u001b[0m in \u001b[0;36mread_reply_from_input\u001b[0;34m(message_id, timeout_sec)\u001b[0m\n\u001b[1;32m     94\u001b[0m     \u001b[0mreply\u001b[0m \u001b[0;34m=\u001b[0m \u001b[0m_read_next_input_message\u001b[0m\u001b[0;34m(\u001b[0m\u001b[0;34m)\u001b[0m\u001b[0;34m\u001b[0m\u001b[0;34m\u001b[0m\u001b[0m\n\u001b[1;32m     95\u001b[0m     \u001b[0;32mif\u001b[0m \u001b[0mreply\u001b[0m \u001b[0;34m==\u001b[0m \u001b[0m_NOT_READY\u001b[0m \u001b[0;32mor\u001b[0m \u001b[0;32mnot\u001b[0m \u001b[0misinstance\u001b[0m\u001b[0;34m(\u001b[0m\u001b[0mreply\u001b[0m\u001b[0;34m,\u001b[0m \u001b[0mdict\u001b[0m\u001b[0;34m)\u001b[0m\u001b[0;34m:\u001b[0m\u001b[0;34m\u001b[0m\u001b[0;34m\u001b[0m\u001b[0m\n\u001b[0;32m---> 96\u001b[0;31m       \u001b[0mtime\u001b[0m\u001b[0;34m.\u001b[0m\u001b[0msleep\u001b[0m\u001b[0;34m(\u001b[0m\u001b[0;36m0.025\u001b[0m\u001b[0;34m)\u001b[0m\u001b[0;34m\u001b[0m\u001b[0;34m\u001b[0m\u001b[0m\n\u001b[0m\u001b[1;32m     97\u001b[0m       \u001b[0;32mcontinue\u001b[0m\u001b[0;34m\u001b[0m\u001b[0;34m\u001b[0m\u001b[0m\n\u001b[1;32m     98\u001b[0m     if (\n",
            "\u001b[0;31mKeyboardInterrupt\u001b[0m: "
          ]
        }
      ],
      "source": [
        "from google.colab import files\n",
        "uploaded = files.upload()\n",
        "\n",
        "pokemon = pd.read_csv('Pokemon (1).csv')\n",
        "\n",
        "# 파일을 업로드한 후 pokemon.csv의 이름이 Pokemon (1).csv로 저장되어 문제가 생겼었음. 그것을 수정.\n",
        "\n",
        "# 데이터 기본 정보 확인\n",
        "print(pokemon.shape)\n",
        "print(pokemon.head())"
      ]
    },
    {
      "cell_type": "code",
      "source": [
        "import os\n",
        "\n",
        "# 파일 이름 변경\n",
        "os.rename('Pokemon (1).csv', 'pokemon.csv')\n",
        "\n",
        "# 변경된 파일 불러오기\n",
        "pokemon = pd.read_csv('pokemon.csv')\n",
        "\n",
        "# 데이터 기본 정보 확인\n",
        "print(pokemon.shape)\n",
        "print(pokemon.head())"
      ],
      "metadata": {
        "colab": {
          "base_uri": "https://localhost:8080/"
        },
        "id": "_yN_K34SfkIA",
        "outputId": "ccf4313a-7d55-498c-81ab-0466161f4d63"
      },
      "execution_count": 8,
      "outputs": [
        {
          "output_type": "stream",
          "name": "stdout",
          "text": [
            "(800, 13)\n",
            "   #                   Name Type 1  Type 2  Total  HP  Attack  Defense  \\\n",
            "0  1              Bulbasaur  Grass  Poison    318  45      49       49   \n",
            "1  2                Ivysaur  Grass  Poison    405  60      62       63   \n",
            "2  3               Venusaur  Grass  Poison    525  80      82       83   \n",
            "3  3  VenusaurMega Venusaur  Grass  Poison    625  80     100      123   \n",
            "4  4             Charmander   Fire     NaN    309  39      52       43   \n",
            "\n",
            "   Sp. Atk  Sp. Def  Speed  Generation  Legendary  \n",
            "0       65       65     45           1      False  \n",
            "1       80       80     60           1      False  \n",
            "2      100      100     80           1      False  \n",
            "3      122      120     80           1      False  \n",
            "4       60       50     65           1      False  \n"
          ]
        }
      ]
    },
    {
      "cell_type": "code",
      "source": [
        "# 데이터 전처리\n",
        "# 데이터 로딩 및 초기 탐색\n",
        "\n",
        "import pandas as pd\n",
        "\n",
        "# 데이터 로드\n",
        "pokemon = pd.read_csv('pokemon.csv')\n",
        "\n",
        "# 데이터 기본 정보 확인\n",
        "print(pokemon.shape)\n",
        "print(pokemon.head())\n",
        "\n",
        "# 결측값 확인\n",
        "print(pokemon.isnull().sum())\n",
        "\n",
        "# Feature 선택\n",
        "features = ['Total', 'HP', 'Attack', 'Defense', 'Sp. Atk', 'Sp. Def', 'Speed', 'Generation']\n",
        "target = 'Legendary'\n",
        "\n",
        "# 범주형 변수 처리 (예: 텍스트 데이터 처리)\n",
        "pokemon['Name_nospace'] = pokemon['Name'].apply(lambda x: x.replace(\" \", \"\"))"
      ],
      "metadata": {
        "colab": {
          "base_uri": "https://localhost:8080/"
        },
        "id": "lbvew65Dfqc5",
        "outputId": "23ad04f4-4e41-4137-a6bd-c1bfdab270c6"
      },
      "execution_count": 14,
      "outputs": [
        {
          "output_type": "stream",
          "name": "stdout",
          "text": [
            "(800, 13)\n",
            "   #                   Name Type 1  Type 2  Total  HP  Attack  Defense  \\\n",
            "0  1              Bulbasaur  Grass  Poison    318  45      49       49   \n",
            "1  2                Ivysaur  Grass  Poison    405  60      62       63   \n",
            "2  3               Venusaur  Grass  Poison    525  80      82       83   \n",
            "3  3  VenusaurMega Venusaur  Grass  Poison    625  80     100      123   \n",
            "4  4             Charmander   Fire     NaN    309  39      52       43   \n",
            "\n",
            "   Sp. Atk  Sp. Def  Speed  Generation  Legendary  \n",
            "0       65       65     45           1      False  \n",
            "1       80       80     60           1      False  \n",
            "2      100      100     80           1      False  \n",
            "3      122      120     80           1      False  \n",
            "4       60       50     65           1      False  \n",
            "#               0\n",
            "Name            0\n",
            "Type 1          0\n",
            "Type 2        386\n",
            "Total           0\n",
            "HP              0\n",
            "Attack          0\n",
            "Defense         0\n",
            "Sp. Atk         0\n",
            "Sp. Def         0\n",
            "Speed           0\n",
            "Generation      0\n",
            "Legendary       0\n",
            "dtype: int64\n"
          ]
        }
      ]
    },
    {
      "cell_type": "code",
      "source": [
        "# 기본 모델 학습\n",
        "# Decision Tree 모델 학습\n",
        "\n",
        "from sklearn.model_selection import train_test_split\n",
        "from sklearn.tree import DecisionTreeClassifier\n",
        "from sklearn.metrics import confusion_matrix, classification_report\n",
        "\n",
        "# 데이터 분할\n",
        "X = pokemon[features]\n",
        "y = pokemon[target]\n",
        "X_train, X_test, y_train, y_test = train_test_split(X, y, test_size=0.2, random_state=25)\n",
        "\n",
        "# 모델 생성 및 학습\n",
        "model = DecisionTreeClassifier(random_state=25)\n",
        "model.fit(X_train, y_train)\n",
        "\n",
        "# 예측\n",
        "y_pred = model.predict(X_test)\n",
        "\n",
        "# 평가\n",
        "print(confusion_matrix(y_test, y_pred))\n",
        "print(classification_report(y_test, y_pred))"
      ],
      "metadata": {
        "colab": {
          "base_uri": "https://localhost:8080/"
        },
        "id": "xEuxmVv6gclZ",
        "outputId": "3bb7afa7-836a-422b-fe7f-4cb142c134f6"
      },
      "execution_count": 15,
      "outputs": [
        {
          "output_type": "stream",
          "name": "stdout",
          "text": [
            "[[141   6]\n",
            " [  4   9]]\n",
            "              precision    recall  f1-score   support\n",
            "\n",
            "       False       0.97      0.96      0.97       147\n",
            "        True       0.60      0.69      0.64        13\n",
            "\n",
            "    accuracy                           0.94       160\n",
            "   macro avg       0.79      0.83      0.80       160\n",
            "weighted avg       0.94      0.94      0.94       160\n",
            "\n"
          ]
        }
      ]
    },
    {
      "cell_type": "code",
      "source": [
        "# 모델 평가\n",
        "# Confusion Matrix와 Classification Report를 통해 모델의 성능을 평가\n",
        "\n",
        "# Confusion matrix 출력\n",
        "cm = confusion_matrix(y_test, y_pred)\n",
        "print(cm)\n",
        "\n",
        "# Classification report 출력\n",
        "report = classification_report(y_test, y_pred)\n",
        "print(report)"
      ],
      "metadata": {
        "colab": {
          "base_uri": "https://localhost:8080/"
        },
        "id": "_664oB3PgMOi",
        "outputId": "cb05c67b-69c1-4f00-ab51-4fb862eebebb"
      },
      "execution_count": 16,
      "outputs": [
        {
          "output_type": "stream",
          "name": "stdout",
          "text": [
            "[[141   6]\n",
            " [  4   9]]\n",
            "              precision    recall  f1-score   support\n",
            "\n",
            "       False       0.97      0.96      0.97       147\n",
            "        True       0.60      0.69      0.64        13\n",
            "\n",
            "    accuracy                           0.94       160\n",
            "   macro avg       0.79      0.83      0.80       160\n",
            "weighted avg       0.94      0.94      0.94       160\n",
            "\n"
          ]
        }
      ]
    },
    {
      "cell_type": "code",
      "source": [
        "# 베이스라인 모델 학습\n",
        "# Feature Engineering 후 Decision Tree 모델 학습\n",
        "\n",
        "# Feature Engineering 추가\n",
        "pokemon['name_count'] = pokemon['Name'].apply(lambda x: len(x))\n",
        "\n",
        "# Feature 선택 업데이트\n",
        "features = ['Total', 'HP', 'Attack', 'Defense', 'Sp. Atk', 'Sp. Def', 'Speed', 'Generation', 'name_count']\n",
        "X = pokemon[features]\n",
        "\n",
        "# 모델 학습\n",
        "X_train, X_test, y_train, y_test = train_test_split(X, y, test_size=0.2, random_state=25)\n",
        "model.fit(X_train, y_train)\n",
        "\n",
        "# 예측\n",
        "y_pred = model.predict(X_test)\n",
        "\n",
        "# 평가\n",
        "print(confusion_matrix(y_test, y_pred))\n",
        "print(classification_report(y_test, y_pred))"
      ],
      "metadata": {
        "colab": {
          "base_uri": "https://localhost:8080/"
        },
        "id": "GsizDLuFgrw0",
        "outputId": "5605bc97-940e-40dd-bb62-ad8a94483bbf"
      },
      "execution_count": 17,
      "outputs": [
        {
          "output_type": "stream",
          "name": "stdout",
          "text": [
            "[[142   5]\n",
            " [  3  10]]\n",
            "              precision    recall  f1-score   support\n",
            "\n",
            "       False       0.98      0.97      0.97       147\n",
            "        True       0.67      0.77      0.71        13\n",
            "\n",
            "    accuracy                           0.95       160\n",
            "   macro avg       0.82      0.87      0.84       160\n",
            "weighted avg       0.95      0.95      0.95       160\n",
            "\n"
          ]
        }
      ]
    },
    {
      "cell_type": "code",
      "source": [
        "# 모델 평가\n",
        "\n",
        "# Confusion matrix 출력\n",
        "cm = confusion_matrix(y_test, y_pred)\n",
        "print(cm)\n",
        "\n",
        "# Classification report 출력\n",
        "report = classification_report(y_test, y_pred)\n",
        "print(report)"
      ],
      "metadata": {
        "colab": {
          "base_uri": "https://localhost:8080/"
        },
        "id": "KI_7_pc_gz9V",
        "outputId": "5d9c650d-5260-4cf1-b245-92073bdb649d"
      },
      "execution_count": 18,
      "outputs": [
        {
          "output_type": "stream",
          "name": "stdout",
          "text": [
            "[[142   5]\n",
            " [  3  10]]\n",
            "              precision    recall  f1-score   support\n",
            "\n",
            "       False       0.98      0.97      0.97       147\n",
            "        True       0.67      0.77      0.71        13\n",
            "\n",
            "    accuracy                           0.95       160\n",
            "   macro avg       0.82      0.87      0.84       160\n",
            "weighted avg       0.95      0.95      0.95       160\n",
            "\n"
          ]
        }
      ]
    },
    {
      "cell_type": "code",
      "source": [
        "# 비교 모델 학습\n",
        "# 다른 분류 모델 학습\n",
        "\n",
        "from sklearn.ensemble import RandomForestClassifier\n",
        "from sklearn.svm import SVC\n",
        "\n",
        "# RandomForest 모델 학습\n",
        "rf_model = RandomForestClassifier(random_state=25)\n",
        "rf_model.fit(X_train, y_train)\n",
        "rf_pred = rf_model.predict(X_test)\n",
        "\n",
        "# SVM 모델 학습\n",
        "svm_model = SVC(random_state=25)\n",
        "svm_model.fit(X_train, y_train)\n",
        "svm_pred = svm_model.predict(X_test)\n",
        "\n",
        "# 평가\n",
        "print(\"RandomForest Confusion Matrix:\")\n",
        "print(confusion_matrix(y_test, rf_pred))\n",
        "print(\"SVM Confusion Matrix:\")\n",
        "print(confusion_matrix(y_test, svm_pred))"
      ],
      "metadata": {
        "colab": {
          "base_uri": "https://localhost:8080/"
        },
        "id": "qRR77c0cg4Ph",
        "outputId": "2eb24e65-709e-4fba-e894-2a61bc43b821"
      },
      "execution_count": 19,
      "outputs": [
        {
          "output_type": "stream",
          "name": "stdout",
          "text": [
            "RandomForest Confusion Matrix:\n",
            "[[143   4]\n",
            " [  4   9]]\n",
            "SVM Confusion Matrix:\n",
            "[[143   4]\n",
            " [  7   6]]\n"
          ]
        }
      ]
    },
    {
      "cell_type": "code",
      "source": [
        "# 모델 비교\n",
        "\n",
        "print(\"RandomForest Classification Report:\")\n",
        "print(classification_report(y_test, rf_pred))\n",
        "print(\"SVM Classification Report:\")\n",
        "print(classification_report(y_test, svm_pred))"
      ],
      "metadata": {
        "colab": {
          "base_uri": "https://localhost:8080/"
        },
        "id": "tytXXmUahA4B",
        "outputId": "6d5e4767-662e-4a31-f4d2-43859933f773"
      },
      "execution_count": 20,
      "outputs": [
        {
          "output_type": "stream",
          "name": "stdout",
          "text": [
            "RandomForest Classification Report:\n",
            "              precision    recall  f1-score   support\n",
            "\n",
            "       False       0.97      0.97      0.97       147\n",
            "        True       0.69      0.69      0.69        13\n",
            "\n",
            "    accuracy                           0.95       160\n",
            "   macro avg       0.83      0.83      0.83       160\n",
            "weighted avg       0.95      0.95      0.95       160\n",
            "\n",
            "SVM Classification Report:\n",
            "              precision    recall  f1-score   support\n",
            "\n",
            "       False       0.95      0.97      0.96       147\n",
            "        True       0.60      0.46      0.52        13\n",
            "\n",
            "    accuracy                           0.93       160\n",
            "   macro avg       0.78      0.72      0.74       160\n",
            "weighted avg       0.92      0.93      0.93       160\n",
            "\n"
          ]
        }
      ]
    },
    {
      "cell_type": "markdown",
      "source": [
        "결과 분석 및 회고\n",
        "모델 성능 분석\n",
        "모델들의 성능을 비교하고, Decision Tree 모델이 가장 적합한 모델인지, 또는 다른 모델이 더 나은 성능을 보였는지 분석합니다.\n",
        "\n",
        "향후 개선 방안\n",
        "모델 성능을 개선하기 위한 방법들을 제시합니다:\n",
        "\n",
        "추가적인 Feature Engineering\n",
        "다른 분류 모델을 시도\n",
        "하이퍼파라미터 튜닝\n",
        "\n",
        "Summary\n",
        "베이스라인 모델을 생성하여 초기 성능을 평가했습니다.\n",
        "Feature Engineering을 통해 성능이 개선된 모델을 만들었습니다.\n",
        "다른 분류 모델을 시도하여 성능을 비교 분석한 결과, 가장 적합한 모델을 선정했습니다.\n",
        "\n",
        "Reference\n",
        "https://scikit-learn.org/stable/\n",
        "\n",
        "https://www.kaggle.com/datasets/abcsds/pokemon\n",
        "\n",
        "https://www.w3schools.com/python/ref_set_difference.asp\n",
        "\n",
        "https://pandas.pydata.org/pandas-docs/stable/reference/api/pandas.DataFrame.isna.html\n",
        "\n",
        "https://pandas.pydata.org/pandas-docs/stable/reference/api/pandas.DataFrame.sum.html\n",
        "\n",
        "https://modulabs.co.kr/blog/lambda_map_filter_reduce\n",
        "\n",
        "https://pandas.pydata.org/pandas-docs/stable/reference/api/pandas.Series.str.\n",
        "isalpha.html\n",
        "\n",
        "https://wikidocs.net/4308\n",
        "\n",
        "https://docs.python.org/3/library/collections.html#counter-objects\n",
        "\n",
        "https://pandas.pydata.org/docs/user_guide/basics."
      ],
      "metadata": {
        "id": "q7Rxeb5chPCf"
      }
    },
    {
      "cell_type": "code",
      "source": [],
      "metadata": {
        "id": "i05ETeNVhRwn"
      },
      "execution_count": null,
      "outputs": []
    }
  ]
}