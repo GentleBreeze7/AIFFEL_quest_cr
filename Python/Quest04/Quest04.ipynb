{
  "nbformat": 4,
  "nbformat_minor": 0,
  "metadata": {
    "colab": {
      "provenance": [],
      "authorship_tag": "ABX9TyOoDFJHK6KffbQeCKQCpnAr",
      "include_colab_link": true
    },
    "kernelspec": {
      "name": "python3",
      "display_name": "Python 3"
    },
    "language_info": {
      "name": "python"
    }
  },
  "cells": [
    {
      "cell_type": "markdown",
      "metadata": {
        "id": "view-in-github",
        "colab_type": "text"
      },
      "source": [
        "<a href=\"https://colab.research.google.com/github/GentleBreeze7/AIFFEL_quest_cr/blob/main/Python/Quest04/Quest04.ipynb\" target=\"_parent\"><img src=\"https://colab.research.google.com/assets/colab-badge.svg\" alt=\"Open In Colab\"/></a>"
      ]
    },
    {
      "cell_type": "code",
      "execution_count": 3,
      "metadata": {
        "colab": {
          "base_uri": "https://localhost:8080/"
        },
        "id": "bpux7J9Si-kH",
        "outputId": "3813c12e-b780-461e-ff10-bb3b3d78c5c5"
      },
      "outputs": [
        {
          "output_type": "stream",
          "name": "stdout",
          "text": [
            "\n",
            "=== 간단한 계산기 ===\n",
            "첫 번째 정수를 입력하세요: 59485\n",
            "두 번째 정수를 입력하세요: 948547\n",
            "연산기호를 입력하세요 (+, -, *, /, **): /\n",
            "결과: 59485 / 948547 = 0.06271170537674992\n",
            "계속 계산하시겠습니까? (y/n): ㅛ\n",
            "잘못된 버튼입니다. 'y' 또는 'n'을 입력해주세요.\n",
            "계속 계산하시겠습니까? (y/n): y\n",
            "\n",
            "=== 간단한 계산기 ===\n",
            "첫 번째 정수를 입력하세요: asdfa\n",
            "잘못된 입력입니다. 정수를 입력해주세요.\n",
            "첫 번째 정수를 입력하세요: 293842394\n",
            "두 번째 정수를 입력하세요: 91094809504935\n",
            "연산기호를 입력하세요 (+, -, *, /, **): *\n",
            "결과: 293842394 * 91094809504935 = 26767516905904055214390\n",
            "계속 계산하시겠습니까? (y/n): n\n",
            "계산기를 종료합니다.\n"
          ]
        }
      ],
      "source": [
        "import math\n",
        "\n",
        "def get_integer(prompt):\n",
        "    while True:\n",
        "        try:\n",
        "            return int(input(prompt))\n",
        "        except ValueError:\n",
        "            print(\"잘못된 입력입니다. 정수를 입력해주세요.\")\n",
        "\n",
        "def get_operator():\n",
        "    valid_operators = ['+', '-', '*', '/', '**']\n",
        "    while True:\n",
        "        operator = input(\"연산기호를 입력하세요 (+, -, *, /, **): \").strip()\n",
        "        if operator in valid_operators:\n",
        "            return operator\n",
        "        else:\n",
        "            print(\"지원하지 않는 연산기호입니다. 다시 입력해주세요.\")\n",
        "\n",
        "def calculate(a, b, operator):\n",
        "    try:\n",
        "        if operator == '+':\n",
        "            return a + b\n",
        "        elif operator == '-':\n",
        "            return a - b\n",
        "        elif operator == '*':\n",
        "            return a * b\n",
        "        elif operator == '/':\n",
        "            if b == 0:\n",
        "                raise ZeroDivisionError(\"0으로 나눌 수 없습니다.\")\n",
        "            return a / b\n",
        "        elif operator == '**':\n",
        "            return math.pow(a, b)\n",
        "    except ZeroDivisionError as e:\n",
        "        print(e)\n",
        "        return None\n",
        "\n",
        "def main():\n",
        "    while True:\n",
        "        print(\"\\n=== 간단한 계산기 ===\")\n",
        "        num1 = get_integer(\"첫 번째 정수를 입력하세요: \")\n",
        "        num2 = get_integer(\"두 번째 정수를 입력하세요: \")\n",
        "        operator = get_operator()\n",
        "\n",
        "        result = calculate(num1, num2, operator)\n",
        "        if result is not None:\n",
        "            print(f\"결과: {num1} {operator} {num2} = {result}\")\n",
        "\n",
        "        while True:\n",
        "            cont = input(\"계속 계산하시겠습니까? (y/n): \").strip().lower()\n",
        "            if cont == 'y':\n",
        "                break\n",
        "            elif cont == 'n':\n",
        "                print(\"계산기를 종료합니다.\")\n",
        "                return\n",
        "            else:\n",
        "                print(\"잘못된 버튼입니다. 'y' 또는 'n'을 입력해주세요.\")\n",
        "\n",
        "if __name__ == \"__main__\":\n",
        "    main()"
      ]
    }
  ]
}