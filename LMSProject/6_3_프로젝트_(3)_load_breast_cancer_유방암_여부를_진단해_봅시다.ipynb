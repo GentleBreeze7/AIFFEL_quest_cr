{
  "nbformat": 4,
  "nbformat_minor": 0,
  "metadata": {
    "colab": {
      "provenance": [],
      "authorship_tag": "ABX9TyM5GITUXP2Ac2LvmGo0N9wD",
      "include_colab_link": true
    },
    "kernelspec": {
      "name": "python3",
      "display_name": "Python 3"
    },
    "language_info": {
      "name": "python"
    }
  },
  "cells": [
    {
      "cell_type": "markdown",
      "metadata": {
        "id": "view-in-github",
        "colab_type": "text"
      },
      "source": [
        "<a href=\"https://colab.research.google.com/github/GentleBreeze7/AIFFEL_quest_cr/blob/main/LMSProject/6_3_%ED%94%84%EB%A1%9C%EC%A0%9D%ED%8A%B8_(3)_load_breast_cancer_%EC%9C%A0%EB%B0%A9%EC%95%94_%EC%97%AC%EB%B6%80%EB%A5%BC_%EC%A7%84%EB%8B%A8%ED%95%B4_%EB%B4%85%EC%8B%9C%EB%8B%A4.ipynb\" target=\"_parent\"><img src=\"https://colab.research.google.com/assets/colab-badge.svg\" alt=\"Open In Colab\"/></a>"
      ]
    },
    {
      "cell_type": "code",
      "execution_count": 1,
      "metadata": {
        "id": "jycwy1YTR4ZP"
      },
      "outputs": [],
      "source": [
        "# (1) 필요한 모듈 import하기\n",
        "from sklearn.datasets import load_breast_cancer  # 유방암 데이터를 로드하기 위한 모듈\n",
        "from sklearn.model_selection import train_test_split  # 데이터를 학습용과 테스트용으로 나누기 위한 모듈\n",
        "from sklearn.metrics import classification_report  # 모델 성능 평가를 위한 모듈\n",
        "from sklearn.tree import DecisionTreeClassifier  # Decision Tree 모델\n",
        "from sklearn.ensemble import RandomForestClassifier  # Random Forest 모델\n",
        "from sklearn.svm import SVC  # Support Vector Machine 모델\n",
        "from sklearn.linear_model import SGDClassifier, LogisticRegression  # SGD와 Logistic Regression 모델"
      ]
    },
    {
      "cell_type": "code",
      "source": [
        "# (2) 데이터 준비\n",
        "# load_breast_cancer 메서드를 통해 유방암 데이터를 로드\n",
        "data = load_breast_cancer()"
      ],
      "metadata": {
        "id": "yHZj4h6FSVis"
      },
      "execution_count": 2,
      "outputs": []
    },
    {
      "cell_type": "code",
      "source": [
        "# (3) 데이터 이해하기\n",
        "# Feature Data와 Label Data를 각각 X와 y에 저장\n",
        "X = data.data  # 각 환자의 건강 지표 데이터\n",
        "y = data.target  # 유방암 여부를 나타내는 레이블 데이터\n",
        "\n",
        "# Target Names 출력\n",
        "# target_names는 0과 1이 각각 무엇을 의미하는지 설명 (예: malignant, benign)\n",
        "print(\"Target Names:\", data.target_names)\n",
        "\n",
        "# 데이터 구조를 확인하기 위한 출력\n",
        "print(\"Feature Data Shape:\", X.shape)  # Feature 데이터의 크기 확인\n",
        "print(\"Label Data Shape:\", y.shape)  # Label 데이터의 크기 확인\n",
        "print(\"First Feature Example:\", X[0])  # 첫 번째 환자의 건강 지표 데이터 출력\n",
        "print(\"First Label Example:\", y[0])  # 첫 번째 환자의 유방암 여부 출력"
      ],
      "metadata": {
        "colab": {
          "base_uri": "https://localhost:8080/"
        },
        "id": "m9qdCk8ISYeZ",
        "outputId": "aa9f2932-8b3e-4042-a609-8610f29d7b7b"
      },
      "execution_count": 3,
      "outputs": [
        {
          "output_type": "stream",
          "name": "stdout",
          "text": [
            "Target Names: ['malignant' 'benign']\n",
            "Feature Data Shape: (569, 30)\n",
            "Label Data Shape: (569,)\n",
            "First Feature Example: [1.799e+01 1.038e+01 1.228e+02 1.001e+03 1.184e-01 2.776e-01 3.001e-01\n",
            " 1.471e-01 2.419e-01 7.871e-02 1.095e+00 9.053e-01 8.589e+00 1.534e+02\n",
            " 6.399e-03 4.904e-02 5.373e-02 1.587e-02 3.003e-02 6.193e-03 2.538e+01\n",
            " 1.733e+01 1.846e+02 2.019e+03 1.622e-01 6.656e-01 7.119e-01 2.654e-01\n",
            " 4.601e-01 1.189e-01]\n",
            "First Label Example: 0\n"
          ]
        }
      ]
    },
    {
      "cell_type": "code",
      "source": [
        "# (4) train, test 데이터 분리\n",
        "# 학습 데이터(X_train, y_train)와 테스트 데이터(X_test, y_test)를 분리\n",
        "# 테스트 데이터는 전체의 20%, 학습 데이터는 80%로 설정\n",
        "X_train, X_test, y_train, y_test = train_test_split(X, y, test_size=0.2, random_state=42)"
      ],
      "metadata": {
        "id": "XgX34_UmSbrB"
      },
      "execution_count": 4,
      "outputs": []
    },
    {
      "cell_type": "code",
      "source": [
        "# (5) 다양한 모델로 학습시켜보기\n",
        "# Decision Tree 모델 생성 및 학습\n",
        "dt_model = DecisionTreeClassifier(random_state=42)  # 랜덤 시드를 고정하여 결과 재현 가능\n",
        "dt_model.fit(X_train, y_train)  # 학습 데이터로 모델 학습\n",
        "dt_pred = dt_model.predict(X_test)  # 테스트 데이터로 예측 수행\n",
        "\n",
        "# Random Forest 모델 생성 및 학습\n",
        "rf_model = RandomForestClassifier(random_state=42)  # 랜덤 시드 고정\n",
        "rf_model.fit(X_train, y_train)  # 학습 데이터로 모델 학습\n",
        "rf_pred = rf_model.predict(X_test)  # 테스트 데이터로 예측 수행\n",
        "\n",
        "# SVM 모델 생성 및 학습\n",
        "svm_model = SVC(random_state=42)  # 랜덤 시드 고정\n",
        "svm_model.fit(X_train, y_train)  # 학습 데이터로 모델 학습\n",
        "svm_pred = svm_model.predict(X_test)  # 테스트 데이터로 예측 수행\n",
        "\n",
        "# SGD Classifier 모델 생성 및 학습\n",
        "sgd_model = SGDClassifier(random_state=42)  # 랜덤 시드 고정\n",
        "sgd_model.fit(X_train, y_train)  # 학습 데이터로 모델 학습\n",
        "sgd_pred = sgd_model.predict(X_test)  # 테스트 데이터로 예측 수행\n",
        "\n",
        "# Logistic Regression 모델 생성 및 학습\n",
        "# Logistic Regression의 경우 max_iter를 충분히 크게 설정하여 학습이 수렴하도록 설정\n",
        "lr_model = LogisticRegression(max_iter=10000, random_state=42)\n",
        "lr_model.fit(X_train, y_train)  # 학습 데이터로 모델 학습\n",
        "lr_pred = lr_model.predict(X_test)  # 테스트 데이터로 예측 수행\n"
      ],
      "metadata": {
        "id": "66Zgf10GSgzG"
      },
      "execution_count": 5,
      "outputs": []
    },
    {
      "cell_type": "code",
      "source": [
        "# (6) 모델을 평가해 보기\n",
        "# 각 모델의 성능을 classification_report를 통해 평가\n",
        "print(\"\\nDecision Tree Classification Report:\")\n",
        "print(classification_report(y_test, dt_pred, target_names=data.target_names))\n",
        "\n",
        "print(\"\\nRandom Forest Classification Report:\")\n",
        "print(classification_report(y_test, rf_pred, target_names=data.target_names))\n",
        "\n",
        "print(\"\\nSVM Classification Report:\")\n",
        "print(classification_report(y_test, svm_pred, target_names=data.target_names))\n",
        "\n",
        "print(\"\\nSGD Classifier Classification Report:\")\n",
        "print(classification_report(y_test, sgd_pred, target_names=data.target_names))\n",
        "\n",
        "print(\"\\nLogistic Regression Classification Report:\")\n",
        "print(classification_report(y_test, lr_pred, target_names=data.target_names))"
      ],
      "metadata": {
        "colab": {
          "base_uri": "https://localhost:8080/"
        },
        "id": "V5dUtalhSlQA",
        "outputId": "5fa0cab2-668f-47e5-d454-eaf0e1e0a665"
      },
      "execution_count": 6,
      "outputs": [
        {
          "output_type": "stream",
          "name": "stdout",
          "text": [
            "\n",
            "Decision Tree Classification Report:\n",
            "              precision    recall  f1-score   support\n",
            "\n",
            "   malignant       0.93      0.93      0.93        43\n",
            "      benign       0.96      0.96      0.96        71\n",
            "\n",
            "    accuracy                           0.95       114\n",
            "   macro avg       0.94      0.94      0.94       114\n",
            "weighted avg       0.95      0.95      0.95       114\n",
            "\n",
            "\n",
            "Random Forest Classification Report:\n",
            "              precision    recall  f1-score   support\n",
            "\n",
            "   malignant       0.98      0.93      0.95        43\n",
            "      benign       0.96      0.99      0.97        71\n",
            "\n",
            "    accuracy                           0.96       114\n",
            "   macro avg       0.97      0.96      0.96       114\n",
            "weighted avg       0.97      0.96      0.96       114\n",
            "\n",
            "\n",
            "SVM Classification Report:\n",
            "              precision    recall  f1-score   support\n",
            "\n",
            "   malignant       1.00      0.86      0.93        43\n",
            "      benign       0.92      1.00      0.96        71\n",
            "\n",
            "    accuracy                           0.95       114\n",
            "   macro avg       0.96      0.93      0.94       114\n",
            "weighted avg       0.95      0.95      0.95       114\n",
            "\n",
            "\n",
            "SGD Classifier Classification Report:\n",
            "              precision    recall  f1-score   support\n",
            "\n",
            "   malignant       1.00      0.74      0.85        43\n",
            "      benign       0.87      1.00      0.93        71\n",
            "\n",
            "    accuracy                           0.90       114\n",
            "   macro avg       0.93      0.87      0.89       114\n",
            "weighted avg       0.92      0.90      0.90       114\n",
            "\n",
            "\n",
            "Logistic Regression Classification Report:\n",
            "              precision    recall  f1-score   support\n",
            "\n",
            "   malignant       0.97      0.91      0.94        43\n",
            "      benign       0.95      0.99      0.97        71\n",
            "\n",
            "    accuracy                           0.96       114\n",
            "   macro avg       0.96      0.95      0.95       114\n",
            "weighted avg       0.96      0.96      0.96       114\n",
            "\n"
          ]
        }
      ]
    }
  ]
}